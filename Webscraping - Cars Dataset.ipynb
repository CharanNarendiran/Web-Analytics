{
  "cells": [
    {
      "cell_type": "code",
      "execution_count": null,
      "id": "38b93a98",
      "metadata": {
        "id": "38b93a98"
      },
      "outputs": [],
      "source": [
        "import requests\n",
        "from bs4 import BeautifulSoup"
      ]
    },
    {
      "cell_type": "code",
      "execution_count": null,
      "id": "d47456b8",
      "metadata": {
        "id": "d47456b8"
      },
      "outputs": [],
      "source": []
    },
    {
      "cell_type": "code",
      "execution_count": null,
      "id": "d3c3e6bb",
      "metadata": {
        "id": "d3c3e6bb"
      },
      "outputs": [],
      "source": [
        "url = 'https://www.carwale.com/new/best-cars/'\n",
        "response = requests.get(url)\n",
        "\n",
        "soup = BeautifulSoup(response.content, 'html.parser')"
      ]
    },
    {
      "cell_type": "code",
      "execution_count": null,
      "id": "bdeb5099",
      "metadata": {
        "id": "bdeb5099"
      },
      "outputs": [],
      "source": [
        "# Find car details on the webpage\n",
        "car_details = []\n",
        "car_elements = soup.find_all('div', class_='uKc5ca o-bfyaNx')\n",
        "\n",
        "for car_element in car_elements:\n",
        "    name = car_element.find('h3', class_='o-dOKno o-bNCMFw o-eqqVmt').text.strip()\n",
        "    price = car_element.find('span', class_='o-Hyyko o-bPYcRG o-eqqVmtt').text.strip()\n",
        "    fuel_type = car_element.find('ul', class_='o-eqqVmt o-eemiLE o-cYdrZi ').find_all('li')[0].text.strip()\n",
        "    engine = car_element.find('ul', class_='o-eqqVmt o-eemiLE o-cYdrZi ').find_all('li')[2].text.strip()\n",
        "    transmission = car_element.find('ul', class_='o-eqqVmt o-eemiLE o-cYdrZi ').find_all('li')[3].text.strip()\n",
        "\n",
        "    car_info = {\n",
        "        'Name': name,\n",
        "        'Price': price,\n",
        "        'Fuel Type': fuel_type,\n",
        "        'Engine': engine,\n",
        "        'Transmission': transmission\n",
        "    }\n",
        "\n",
        "    car_details.append(car_info)\n"
      ]
    },
    {
      "cell_type": "code",
      "execution_count": null,
      "id": "f438e77b",
      "metadata": {
        "id": "f438e77b"
      },
      "outputs": [],
      "source": [
        "# Print the extracted car details\n",
        "for car in car_details:\n",
        "    print(car)"
      ]
    },
    {
      "cell_type": "code",
      "execution_count": null,
      "id": "3601b9ec",
      "metadata": {
        "id": "3601b9ec"
      },
      "outputs": [],
      "source": []
    },
    {
      "cell_type": "code",
      "execution_count": null,
      "id": "9a9d5622",
      "metadata": {
        "id": "9a9d5622"
      },
      "outputs": [],
      "source": [
        "|"
      ]
    }
  ],
  "metadata": {
    "kernelspec": {
      "display_name": "Python 3 (ipykernel)",
      "language": "python",
      "name": "python3"
    },
    "language_info": {
      "codemirror_mode": {
        "name": "ipython",
        "version": 3
      },
      "file_extension": ".py",
      "mimetype": "text/x-python",
      "name": "python",
      "nbconvert_exporter": "python",
      "pygments_lexer": "ipython3",
      "version": "3.10.6"
    },
    "colab": {
      "provenance": []
    }
  },
  "nbformat": 4,
  "nbformat_minor": 5
}